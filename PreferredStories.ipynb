{
 "cells": [
  {
   "cell_type": "code",
   "execution_count": null,
   "metadata": {},
   "outputs": [],
   "source": [
    "import requests\n",
    "import json\n",
    "from operator import itemgetter\n",
    "\n",
    "from openai import OpenAI\n",
    "\n",
    "azure_subscription_key = 'your_own_bing_key'\n",
    "openai_api_key = 'your_own_openai_key'\n",
    "model = \"gpt-3.5-turbo\""
   ]
  },
  {
   "cell_type": "code",
   "execution_count": 3,
   "metadata": {},
   "outputs": [],
   "source": [
    "def PreferredStories(newsiteURL, profile):\n",
    "    # Construct a requrest to the Bing News Search API\n",
    "    search_url = \"https://api.bing.microsoft.com/v7.0/news/search\"\n",
    "    headers = {\"Ocp-Apim-Subscription-Key\" : azure_subscription_key}\n",
    "    params  = {\"q\": f\"site:{newsiteURL}\", \"count\": 20}\n",
    "\n",
    "    try:\n",
    "        response = requests.get(search_url, headers=headers, params=params)\n",
    "        response.raise_for_status()\n",
    "        search_results = response.json()\n",
    "    except Exception as ex:\n",
    "        raise ex\n",
    "\n",
    "    articles = [[value['name'], value['description'], value['url']] for value in search_results['value']]\n",
    "\n",
    "    # OpenAI API\n",
    "    client = OpenAI(api_key=openai_api_key)\n",
    "    messages = [\n",
    "        {\"role\": 'system', \"content\": \"You are a helpful assistant.\"},\n",
    "        {\"role\": 'user', \"content\": f\"Given the profile {profile}, just provide the relevant score (0-10) to each of the news articles in pure json format: [\\u007b\\\"score\\\": score\\u007d, ...] {articles}\"},\n",
    "    ]\n",
    "    response = client.chat.completions.create(model = model, messages = messages)\n",
    "    ai_summary = json.loads(response.choices[0].message.content)\n",
    "    articles = [article + [ai_summary[idx]['score']] for idx, article in enumerate(articles)]\n",
    "\n",
    "    # Sort articles by relevance and select top 5\n",
    "    articles = sorted(articles, key=itemgetter(3), reverse=True)[:5]\n",
    "\n",
    "    # Print the top 5 articles\n",
    "    for article in articles:\n",
    "        print(\"<title> \" + f\"{article[0]}\" + \" </title>\")\n",
    "        print(\"<summary> \" + f\"{article[1]}\" + \" </summary>\")\n",
    "        print(\"<link> \" + f\"{article[2]}\" + \" </link>\")\n",
    "        print(\"<score> \" + f\"{article[3]}\" + \" </score>\")\n",
    "        print(\"\\n\")"
   ]
  },
  {
   "cell_type": "code",
   "execution_count": 5,
   "metadata": {},
   "outputs": [
    {
     "name": "stdout",
     "output_type": "stream",
     "text": [
      "<title> Amazon reverses course, revokes police access to Ring footage via Neighbors app </title>\n",
      "<summary> Amazon today announced that it is end-of-lifing Request for Assistance (RFA), a controversial tool that allowed police and fire departments to request doorbell video through Ring’s Neighbors app. “Public safety agencies like fire and police departments ... </summary>\n",
      "<link> https://techcrunch.com/2024/01/24/amazon-reverses-course-revokes-police-access-to-ring-footage-via-neighbors-app/ </link>\n",
      "<score> 9 </score>\n",
      "\n",
      "\n",
      "<title> DXwand raises $4M to scale its conversational AI platform for enterprises in MENA </title>\n",
      "<summary> DXwand, a Cairo- and Dubai-based startup that leverages conversational AI to help businesses in the Middle East automate customer service and employee assistance, has raised $4 million in a Series A round. UAE-based Shorooq Partners and Cairo-headquartered ... </summary>\n",
      "<link> https://techcrunch.com/2024/01/25/dxwand-raises-4m-to-scale-its-conversational-ai-platform-for-enterprises-in-mena/ </link>\n",
      "<score> 9 </score>\n",
      "\n",
      "\n",
      "<title> HPE says it was hacked by Russian group behind Microsoft email breach </title>\n",
      "<summary> Hewlett Packard Enterprise said on Wednesday that its cloud-based email system was compromised by Midnight Blizzard, a Russia-linked hacking group that recently broke into Microsoft’s corporate network. In a filing with the U.S. Securities and Exchange ... </summary>\n",
      "<link> https://techcrunch.com/2024/01/25/hpe-says-it-was-hacked-by-russian-group-behind-microsoft-email-breach/ </link>\n",
      "<score> 8 </score>\n",
      "\n",
      "\n",
      "<title> Meta is rolling out tighter teen messaging limitations and parental controls </title>\n",
      "<summary> Meta today said that it is rolling out new DM restrictions on both Facebook and Instagram for teens that prevent anyone from messaging teens. Until now, </summary>\n",
      "<link> https://techcrunch.com/2024/01/25/meta-is-rolling-out-tighter-teen-messaging-limitations-and-parental-controls/ </link>\n",
      "<score> 8 </score>\n",
      "\n",
      "\n",
      "<title> Where gut health meets hypergrowth with Ben Goodwin from Olipop </title>\n",
      "<summary> This episode focuses on the founding story of prebiotic soda startup Olipop and how its achieved strong growth early on. </summary>\n",
      "<link> https://techcrunch.com/2024/01/24/where-gut-health-meets-hypergrowth-with-ben-goodwin-from-olipop/ </link>\n",
      "<score> 8 </score>\n",
      "\n",
      "\n"
     ]
    }
   ],
   "source": [
    "# Test the function\n",
    "profile = {\n",
    "    \"Name\": \"Yanting Chen\",\n",
    "    \"Job Role\": \"Software Engineer\",\n",
    "    \"Sector\": \"Wireless Technology\",\n",
    "}\n",
    "PreferredStories(\"techcrunch.com\", profile)"
   ]
  },
  {
   "cell_type": "code",
   "execution_count": null,
   "metadata": {},
   "outputs": [],
   "source": []
  },
  {
   "cell_type": "code",
   "execution_count": null,
   "metadata": {},
   "outputs": [],
   "source": []
  }
 ],
 "metadata": {
  "kernelspec": {
   "display_name": "MVFtest",
   "language": "python",
   "name": "python3"
  },
  "language_info": {
   "codemirror_mode": {
    "name": "ipython",
    "version": 3
   },
   "file_extension": ".py",
   "mimetype": "text/x-python",
   "name": "python",
   "nbconvert_exporter": "python",
   "pygments_lexer": "ipython3",
   "version": "3.8.18"
  }
 },
 "nbformat": 4,
 "nbformat_minor": 2
}
